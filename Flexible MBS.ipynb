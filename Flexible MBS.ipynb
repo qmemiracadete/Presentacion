{
 "cells": [
  {
   "cell_type": "code",
   "execution_count": 1,
   "metadata": {
    "collapsed": false,
    "slideshow": {
     "slide_type": "skip"
    }
   },
   "outputs": [
    {
     "data": {
      "text/html": [
       "<style>.container { width:95% !important; }</style>"
      ],
      "text/plain": [
       "<IPython.core.display.HTML object>"
      ]
     },
     "metadata": {},
     "output_type": "display_data"
    },
    {
     "data": {
      "text/html": [
       "\n",
       "<style>\n",
       "div.text_cell_render { /* Customize text cells */\n",
       "font-size:0.8em;\n",
       "line-height:0.8em;\n",
       "}\n",
       "</style>\n"
      ],
      "text/plain": [
       "<IPython.core.display.HTML object>"
      ]
     },
     "execution_count": 1,
     "metadata": {},
     "output_type": "execute_result"
    }
   ],
   "source": [
    "from IPython.core.display import display, HTML\n",
    "display(HTML(\"<style>.container { width:95% !important; }</style>\"))\n",
    "HTML(\"\"\"\n",
    "<style>\n",
    "div.text_cell_render { /* Customize text cells */\n",
    "font-size:0.8em;\n",
    "line-height:0.8em;\n",
    "}\n",
    "</style>\n",
    "\"\"\")"
   ]
  },
  {
   "cell_type": "markdown",
   "metadata": {
    "slideshow": {
     "slide_type": "slide"
    }
   },
   "source": [
    "# Flexible Multibody Systems Dynamics\n",
    "## Arturo Cubas"
   ]
  },
  {
   "cell_type": "markdown",
   "metadata": {
    "slideshow": {
     "slide_type": "slide"
    }
   },
   "source": [
    "## Multibody systems\n",
    "- A flexible multibody system is a set of deformable and non deformable bodies, flexible and rigid joints and force elements."
   ]
  },
  {
   "cell_type": "markdown",
   "metadata": {
    "slideshow": {
     "slide_type": "fragment"
    }
   },
   "source": [
    "<div align=\"center\"><img src=\"Figs/mbs.svg\" width=45%></div>"
   ]
  },
  {
   "cell_type": "markdown",
   "metadata": {
    "slideshow": {
     "slide_type": "slide"
    }
   },
   "source": [
    "## Motion equations\n",
    "- A flexible multibody system can be represented by a set of $n$ independent generalized coordinates $\\boldsymbol{q}=\\begin{bmatrix}q_{1} & q_{2} & \\cdots & q_{n}\\end{bmatrix}^{T}$ and a set of $m$ non-holonomic contraints $\\boldsymbol{\\phi}\\left(\\boldsymbol{q}\\right)=\\begin{bmatrix}\\phi_{1}(\\boldsymbol{q}) & \\phi_{2}(\\boldsymbol{q}) & \\cdots & \\phi_{m}(\\boldsymbol{q})\\end{bmatrix}^{T}=\\boldsymbol{0}$."
   ]
  },
  {
   "cell_type": "markdown",
   "metadata": {
    "slideshow": {
     "slide_type": "fragment"
    }
   },
   "source": [
    "- The lagrangian for this conservative system is defined as\n",
    "$$\\mathcal{L}\\left(\\boldsymbol{q},\\dot{\\boldsymbol{q}}\\right)=\\mathcal{K}\\left(\\boldsymbol{q},\\dot{\\boldsymbol{q}}\\right)-\\mathcal{W}\\left(\\boldsymbol{q}\\right)-\\mathcal{P}\\left(\\boldsymbol{q}\\right).$$"
   ]
  },
  {
   "cell_type": "markdown",
   "metadata": {
    "slideshow": {
     "slide_type": "fragment"
    }
   },
   "source": [
    "- Where $\\mathcal{K}\\left(\\boldsymbol{q},\\dot{\\boldsymbol{q}}\\right)$, $\\mathcal{W}\\left(\\boldsymbol{q}\\right)$, $\\mathcal{P}\\left(\\boldsymbol{q}\\right)$ are the kinetic, strain and potential energies respectively."
   ]
  },
  {
   "cell_type": "markdown",
   "metadata": {
    "slideshow": {
     "slide_type": "fragment"
    }
   },
   "source": [
    "- If the system has no constraints, its trajectory is the solution of the minimization problem\n",
    "$$\\begin{align*}\n",
    "\\min_{\\boldsymbol{q}} & \\int_{t_{1}}^{t_{2}}\\mathcal{L}\\mathrm{\\,dt}\n",
    "\\end{align*}.$$\n"
   ]
  },
  {
   "cell_type": "markdown",
   "metadata": {
    "slideshow": {
     "slide_type": "slide"
    }
   },
   "source": [
    "- When the system has constraints, the problem is modified to introduce a set of lagrangian multipliers $\\boldsymbol{\\lambda}$\n",
    "$$\\begin{align*}\n",
    "\\min_{\\boldsymbol{q},\\,\\boldsymbol{\\lambda}} & \\int_{t_{1}}^{t_{2}}\\left(\\mathcal{L}-\\boldsymbol{\\lambda}^{T}\\boldsymbol{\\phi}\\right)\\mathrm{\\,dt}\n",
    "\\end{align*}.$$\n"
   ]
  },
  {
   "cell_type": "markdown",
   "metadata": {
    "collapsed": true,
    "slideshow": {
     "slide_type": "fragment"
    }
   },
   "source": [
    "- After integration we have\n",
    "$$\\begin{cases}\n",
    "\\begin{aligned}\\dfrac{d}{dt}\\left(\\dfrac{\\partial\\mathcal{L}}{\\partial\\boldsymbol{\\dot{q}}}\\right)-\\dfrac{\\partial\\mathcal{L}}{\\partial\\boldsymbol{q}}+\\left(\\dfrac{\\partial\\boldsymbol{\\phi}}{\\partial\\boldsymbol{q}}\\right)^{T}\\boldsymbol{\\lambda} & =\\boldsymbol{0}\\\\\n",
    "\\boldsymbol{\\phi}(\\boldsymbol{q}) & =\\boldsymbol{0}.\n",
    "\\end{aligned}\n",
    "\\end{cases}$$"
   ]
  },
  {
   "cell_type": "markdown",
   "metadata": {
    "slideshow": {
     "slide_type": "fragment"
    }
   },
   "source": [
    "- The kinetic energy can be written as $\\mathcal{K}=\\dfrac{1}{2}\\boldsymbol{\\dot{q}}^{T}\\boldsymbol{M}\\boldsymbol{\\dot{q}}$, then the motion equations take the form\n",
    "$$\\begin{cases}\n",
    "\\begin{aligned}\\boldsymbol{M}\\boldsymbol{\\ddot{q}}-\\boldsymbol{g}_{\\mathrm{ext}}+\\boldsymbol{B}^{T}\\boldsymbol{\\lambda} & =\\boldsymbol{0}\\\\\n",
    "\\boldsymbol{\\phi}(\\boldsymbol{q}) & =\\boldsymbol{0}.\n",
    "\\end{aligned}\n",
    "\\end{cases}$$"
   ]
  },
  {
   "cell_type": "markdown",
   "metadata": {
    "slideshow": {
     "slide_type": "fragment"
    }
   },
   "source": [
    "- Where $\\boldsymbol{g}_{\\mathrm{ext}}=\\dfrac{\\partial\\mathcal{L}}{\\partial\\boldsymbol{q}}$, and $\\boldsymbol{B}=\\dfrac{\\partial\\boldsymbol{\\phi}}{\\partial\\boldsymbol{q}}$."
   ]
  },
  {
   "cell_type": "markdown",
   "metadata": {
    "slideshow": {
     "slide_type": "slide"
    }
   },
   "source": [
    "## Time integration of the motion equations\n",
    "- We use the Newmark difference formulas in time $t_{n+1}$\n",
    "$$\\begin{aligned}\\boldsymbol{\\dot{q}}_{n+1} & =\\boldsymbol{\\dot{q}}_{n}+\\left(1-\\gamma\\right)\\,h\\,\\ddot{\\boldsymbol{q}}_{n}+\\gamma\\,h\\,\\ddot{\\boldsymbol{q}}_{n+1}\\\\\n",
    "\\boldsymbol{q}_{n+1} & =\\boldsymbol{q}_{n}+h\\,\\dot{\\boldsymbol{q}}_{n}+\\left(\\dfrac{1}{2}-\\beta\\right)\\,h^{2}\\,\\ddot{\\boldsymbol{q}}_{n}+\\beta\\,h^{2}\\,\\ddot{\\boldsymbol{q}}_{n+1}\n",
    "\\end{aligned}$$"
   ]
  },
  {
   "cell_type": "markdown",
   "metadata": {
    "slideshow": {
     "slide_type": "fragment"
    }
   },
   "source": [
    "- To solve this non-linear differential algebraic system, we use the Newton method with a residual\n",
    "$$\\boldsymbol{r}=-\\boldsymbol{M}\\boldsymbol{\\ddot{q}}+\\boldsymbol{g}_{\\mathrm{ext}}-\\boldsymbol{B}^{T}\\boldsymbol{\\lambda}.$$"
   ]
  },
  {
   "cell_type": "markdown",
   "metadata": {
    "slideshow": {
     "slide_type": "fragment"
    }
   },
   "source": [
    "- So the system dynamics is the solution of\n",
    "$$\\begin{align*}\n",
    "\\boldsymbol{r}\\left(\\ddot{\\boldsymbol{q}},\\boldsymbol{\\dot{q}},\\boldsymbol{q},\\boldsymbol{\\lambda}\\right) & =\\boldsymbol{0}\\\\\n",
    "\\boldsymbol{\\phi}(\\boldsymbol{q}) & =\\boldsymbol{0}.\n",
    "\\end{align*}$$"
   ]
  },
  {
   "cell_type": "markdown",
   "metadata": {
    "slideshow": {
     "slide_type": "slide"
    }
   },
   "source": [
    "- From an approximate solution $\\left(\\ddot{\\boldsymbol{q}}^{*},\\boldsymbol{\\dot{q}}^{*},\\boldsymbol{q}^{*},\\boldsymbol{\\lambda}^{*}\\right)$, we add $\\Delta$ increments\n",
    "$$\\begin{align*}\n",
    "\\ddot{\\boldsymbol{q}} & =\\ddot{\\boldsymbol{q}}^{*}+\\Delta\\ddot{\\boldsymbol{q}}\\\\\n",
    "\\boldsymbol{\\dot{q}} & =\\boldsymbol{\\dot{q}}^{*}+\\Delta\\boldsymbol{\\dot{q}}\\\\\n",
    "\\boldsymbol{q} & =\\boldsymbol{q}^{*}+\\Delta\\boldsymbol{q}\\\\\n",
    "\\boldsymbol{\\lambda} & =\\boldsymbol{\\lambda}^{*}+\\Delta\\boldsymbol{\\lambda}.\n",
    "\\end{align*}$$"
   ]
  },
  {
   "cell_type": "markdown",
   "metadata": {
    "collapsed": true,
    "slideshow": {
     "slide_type": "fragment"
    }
   },
   "source": [
    "- We found them by solving the linearized equation\n",
    "$$\\begin{align*}\n",
    "\\begin{bmatrix}\\boldsymbol{M} & \\boldsymbol{0}\\\\\n",
    "\\boldsymbol{0} & \\boldsymbol{0}\n",
    "\\end{bmatrix}\\begin{bmatrix}\\Delta\\ddot{\\boldsymbol{q}}\\\\\n",
    "\\Delta\\ddot{\\boldsymbol{\\lambda}}\n",
    "\\end{bmatrix}+\\begin{bmatrix}\\boldsymbol{C}_{\\mathrm{T}} & \\boldsymbol{0}\\\\\n",
    "\\boldsymbol{0} & \\boldsymbol{0}\n",
    "\\end{bmatrix}\\begin{bmatrix}\\Delta\\boldsymbol{\\dot{q}}\\\\\n",
    "\\Delta\\boldsymbol{\\dot{\\lambda}}\n",
    "\\end{bmatrix}+\\begin{bmatrix}\\boldsymbol{K}_{\\mathrm{T}} & \\boldsymbol{B}^{\\mathrm{T}}\\\\\n",
    "\\boldsymbol{B} & \\boldsymbol{0}\n",
    "\\end{bmatrix}\\begin{bmatrix}\\Delta\\boldsymbol{q}\\\\\n",
    "\\Delta\\boldsymbol{\\lambda}\n",
    "\\end{bmatrix} & =\\begin{bmatrix}\\boldsymbol{r}\\\\\n",
    "-\\boldsymbol{\\phi}\n",
    "\\end{bmatrix}\n",
    "\\end{align*}$$"
   ]
  },
  {
   "cell_type": "markdown",
   "metadata": {
    "slideshow": {
     "slide_type": "fragment"
    }
   },
   "source": [
    "- We define the *tangent stiffness* and *damping* matrices\n",
    "$$\\begin{align*}\n",
    "\\boldsymbol{K}_{\\mathrm{T}} & =-\\dfrac{\\partial\\boldsymbol{r}}{\\partial\\boldsymbol{q}}\\\\\n",
    "\\boldsymbol{C}_{\\mathrm{T}} & =-\\dfrac{\\partial\\boldsymbol{r}}{\\partial\\boldsymbol{\\dot{q}}}\n",
    "\\end{align*}$$"
   ]
  },
  {
   "cell_type": "markdown",
   "metadata": {
    "slideshow": {
     "slide_type": "slide"
    }
   },
   "source": [
    "- We predict a first iteration\n",
    "$$\\begin{aligned}\\ddot{\\boldsymbol{q}}_{n+1} & =\\boldsymbol{0}\\\\\n",
    "\\boldsymbol{\\dot{q}}_{n+1} & =\\boldsymbol{\\dot{q}}_{n}+\\left(1-\\gamma\\right)\\,h\\,\\ddot{\\boldsymbol{q}}_{n}\\\\\n",
    "\\boldsymbol{q}_{n+1} & =\\boldsymbol{q}_{n}+h\\,\\dot{\\boldsymbol{q}}_{n}+\\left(\\dfrac{1}{2}-\\beta\\right)\\,h^{2}\\,\\ddot{\\boldsymbol{q}}_{n}\\\\\n",
    "\\boldsymbol{\\lambda}_{n+1} & =\\boldsymbol{\\lambda}_{n}\n",
    "\\end{aligned}$$"
   ]
  },
  {
   "cell_type": "markdown",
   "metadata": {
    "slideshow": {
     "slide_type": "fragment"
    }
   },
   "source": [
    "- The system coordinates can be updated as\n",
    "$$\\begin{aligned}\\boldsymbol{\\ddot{q}}_{n+1}^{k+1} & =\\boldsymbol{\\ddot{q}}_{n+1}^{k}+\\dfrac{1}{\\beta h^{2}}\\Delta\\boldsymbol{q}\\\\\n",
    "\\boldsymbol{\\dot{q}}_{n+1}^{k+1} & =\\boldsymbol{\\dot{q}}_{n+1}^{k}+\\dfrac{\\gamma}{\\beta h}\\Delta\\boldsymbol{q}\\\\\n",
    "\\boldsymbol{q}_{n+1}^{k+1} & =\\boldsymbol{q}_{n+1}^{k}+\\Delta\\boldsymbol{q}\n",
    "\\end{aligned}$$"
   ]
  },
  {
   "cell_type": "markdown",
   "metadata": {
    "slideshow": {
     "slide_type": "slide"
    }
   },
   "source": [
    "- After replacing these accelerations and velocities in the linearized system equation\n",
    "$$\\begin{bmatrix}\\boldsymbol{S}_{T} & \\boldsymbol{B}^{T}\\\\\n",
    "\\boldsymbol{B} & \\boldsymbol{0}\n",
    "\\end{bmatrix}\\begin{bmatrix}\\Delta\\boldsymbol{q}\\\\\n",
    "\\Delta\\boldsymbol{\\lambda}\n",
    "\\end{bmatrix}=\\begin{bmatrix}\\boldsymbol{r}_{n+1}\\\\\n",
    "-\\boldsymbol{\\phi}_{n+1}\n",
    "\\end{bmatrix}$$"
   ]
  },
  {
   "cell_type": "markdown",
   "metadata": {
    "slideshow": {
     "slide_type": "fragment"
    }
   },
   "source": [
    "- Where\n",
    "$$\\boldsymbol{S}_{T}=\\boldsymbol{K}_{\\mathrm{T}}+\\dfrac{\\gamma}{\\beta h}\\boldsymbol{C}_{T}+\\dfrac{1}{\\beta h^{2}}\\boldsymbol{M}$$"
   ]
  },
  {
   "cell_type": "markdown",
   "metadata": {
    "slideshow": {
     "slide_type": "slide"
    }
   },
   "source": [
    "- Newmark and Newton iterations to solve the MBS problem\n",
    "<div align=\"center\"><img src=\"Figs/Newmark flowchart.svg\" width=95%></div>"
   ]
  },
  {
   "cell_type": "markdown",
   "metadata": {
    "slideshow": {
     "slide_type": "slide"
    }
   },
   "source": [
    "## Problems\n",
    "### 1. Elastic double pendulum\n",
    "<div align=\"center\"><img src=\"Figs/DoublePendulumDynamicFlexibleDistribuited.svg\" width=25%></div>"
   ]
  },
  {
   "cell_type": "markdown",
   "metadata": {
    "slideshow": {
     "slide_type": "slide"
    }
   },
   "source": [
    "### 2. Elastic dynamic truss\n",
    "<div align=\"center\"><img src=\"Figs/truss.svg\" width=60%></div>"
   ]
  },
  {
   "cell_type": "markdown",
   "metadata": {
    "slideshow": {
     "slide_type": "slide"
    }
   },
   "source": [
    "### 3. Elastic dynamic truss\n",
    "<div align=\"center\"><img src=\"Figs/trussMBS.svg\" width=45%></div>"
   ]
  }
 ],
 "metadata": {
  "anaconda-cloud": {},
  "celltoolbar": "Slideshow",
  "kernelspec": {
   "display_name": "Python [default]",
   "language": "python",
   "name": "python3"
  },
  "language_info": {
   "codemirror_mode": {
    "name": "ipython",
    "version": 3
   },
   "file_extension": ".py",
   "mimetype": "text/x-python",
   "name": "python",
   "nbconvert_exporter": "python",
   "pygments_lexer": "ipython3",
   "version": "3.5.2"
  },
  "latex_envs": {
   "bibliofile": "biblio.bib",
   "cite_by": "apalike",
   "current_citInitial": 1,
   "eqLabelWithNumbers": true,
   "eqNumInitial": 0
  }
 },
 "nbformat": 4,
 "nbformat_minor": 1
}
